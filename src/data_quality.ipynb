{
 "cells": [
  {
   "attachments": {},
   "cell_type": "markdown",
   "metadata": {},
   "source": [
    "# Ufo"
   ]
  },
  {
   "attachments": {},
   "cell_type": "markdown",
   "metadata": {},
   "source": [
    "## Dependencias"
   ]
  },
  {
   "cell_type": "code",
   "execution_count": 1,
   "metadata": {},
   "outputs": [],
   "source": [
    "# data wrangling\n",
    "import pandas as pd\n",
    "import numpy as np\n",
    "import unicodedata\n",
    "import re\n",
    "import datetime\n",
    "\n",
    "# Visualizacion\n",
    "import seaborn as sb\n",
    "import matplotlib.pyplot as plt\n",
    "from plotly.offline import plot,iplot\n",
    "import plotly.express as px\n",
    "import plotly.graph_objects as go\n",
    "\n",
    "# Display options\n",
    "import warnings \n",
    "warnings.filterwarnings('ignore')\n",
    "pd.set_option('display.max_columns', 35)"
   ]
  },
  {
   "cell_type": "code",
   "execution_count": 2,
   "metadata": {},
   "outputs": [],
   "source": [
    "def completitud(df):\n",
    "    comple=pd.DataFrame(df.isnull().sum())\n",
    "    comple.reset_index(inplace=True)\n",
    "    comple=comple.rename(columns={\"index\":\"columna\",0:\"total\"}) \n",
    "    comple[\"completitud\"]=(1-comple[\"total\"]/df.shape[0])*100\n",
    "    comple=comple.sort_values(by=\"completitud\",ascending=True)\n",
    "    comple.reset_index(drop=True,inplace=True)\n",
    "    return comple"
   ]
  },
  {
   "cell_type": "code",
   "execution_count": 3,
   "metadata": {},
   "outputs": [],
   "source": [
    "def clean_text(text, pattern=\"[^a-zA-Z0-9 ]\"):\n",
    "    text=str(text)\n",
    "    cleaned_text = unicodedata.normalize('NFD', text).encode('ascii', 'ignore')\n",
    "    cleaned_text = re.sub(pattern, \" \", cleaned_text.decode(\"utf-8\"), flags=re.UNICODE)\n",
    "    cleaned_text = u' '.join(cleaned_text.lower().strip().lstrip().split())\n",
    "    return cleaned_text if cleaned_text!=\"nan\" else np.nan"
   ]
  },
  {
   "attachments": {},
   "cell_type": "markdown",
   "metadata": {},
   "source": [
    "## Lectura de datos"
   ]
  },
  {
   "cell_type": "code",
   "execution_count": 4,
   "metadata": {},
   "outputs": [
    {
     "data": {
      "text/html": [
       "<div>\n",
       "<style scoped>\n",
       "    .dataframe tbody tr th:only-of-type {\n",
       "        vertical-align: middle;\n",
       "    }\n",
       "\n",
       "    .dataframe tbody tr th {\n",
       "        vertical-align: top;\n",
       "    }\n",
       "\n",
       "    .dataframe thead th {\n",
       "        text-align: right;\n",
       "    }\n",
       "</style>\n",
       "<table border=\"1\" class=\"dataframe\">\n",
       "  <thead>\n",
       "    <tr style=\"text-align: right;\">\n",
       "      <th></th>\n",
       "      <th>datetime</th>\n",
       "      <th>city</th>\n",
       "      <th>state</th>\n",
       "      <th>country</th>\n",
       "      <th>shape</th>\n",
       "      <th>duration (seconds)</th>\n",
       "      <th>duration (hours/min)</th>\n",
       "      <th>comments</th>\n",
       "      <th>date posted</th>\n",
       "      <th>latitude</th>\n",
       "      <th>longitude</th>\n",
       "    </tr>\n",
       "  </thead>\n",
       "  <tbody>\n",
       "    <tr>\n",
       "      <th>0</th>\n",
       "      <td>10/10/1949 20:30</td>\n",
       "      <td>san marcos</td>\n",
       "      <td>tx</td>\n",
       "      <td>us</td>\n",
       "      <td>cylinder</td>\n",
       "      <td>2700</td>\n",
       "      <td>45 minutes</td>\n",
       "      <td>This event took place in early fall around 194...</td>\n",
       "      <td>4/27/2004</td>\n",
       "      <td>29.8830556</td>\n",
       "      <td>-97.941111</td>\n",
       "    </tr>\n",
       "    <tr>\n",
       "      <th>1</th>\n",
       "      <td>10/10/1949 21:00</td>\n",
       "      <td>lackland afb</td>\n",
       "      <td>tx</td>\n",
       "      <td>NaN</td>\n",
       "      <td>light</td>\n",
       "      <td>7200</td>\n",
       "      <td>1-2 hrs</td>\n",
       "      <td>1949 Lackland AFB&amp;#44 TX.  Lights racing acros...</td>\n",
       "      <td>12/16/2005</td>\n",
       "      <td>29.38421</td>\n",
       "      <td>-98.581082</td>\n",
       "    </tr>\n",
       "    <tr>\n",
       "      <th>2</th>\n",
       "      <td>10/10/1955 17:00</td>\n",
       "      <td>chester (uk/england)</td>\n",
       "      <td>NaN</td>\n",
       "      <td>gb</td>\n",
       "      <td>circle</td>\n",
       "      <td>20</td>\n",
       "      <td>20 seconds</td>\n",
       "      <td>Green/Orange circular disc over Chester&amp;#44 En...</td>\n",
       "      <td>1/21/2008</td>\n",
       "      <td>53.2</td>\n",
       "      <td>-2.916667</td>\n",
       "    </tr>\n",
       "  </tbody>\n",
       "</table>\n",
       "</div>"
      ],
      "text/plain": [
       "           datetime                  city state country     shape  \\\n",
       "0  10/10/1949 20:30            san marcos    tx      us  cylinder   \n",
       "1  10/10/1949 21:00          lackland afb    tx     NaN     light   \n",
       "2  10/10/1955 17:00  chester (uk/england)   NaN      gb    circle   \n",
       "\n",
       "  duration (seconds) duration (hours/min)  \\\n",
       "0               2700           45 minutes   \n",
       "1               7200              1-2 hrs   \n",
       "2                 20           20 seconds   \n",
       "\n",
       "                                            comments date posted    latitude  \\\n",
       "0  This event took place in early fall around 194...   4/27/2004  29.8830556   \n",
       "1  1949 Lackland AFB&#44 TX.  Lights racing acros...  12/16/2005    29.38421   \n",
       "2  Green/Orange circular disc over Chester&#44 En...   1/21/2008        53.2   \n",
       "\n",
       "   longitude   \n",
       "0  -97.941111  \n",
       "1  -98.581082  \n",
       "2   -2.916667  "
      ]
     },
     "execution_count": 4,
     "metadata": {},
     "output_type": "execute_result"
    }
   ],
   "source": [
    "df=pd.read_csv('../data/raw/scrubbed.csv',error_bad_lines=False,low_memory=False)\n",
    "df.head(3)"
   ]
  },
  {
   "cell_type": "code",
   "execution_count": 5,
   "metadata": {},
   "outputs": [
    {
     "data": {
      "text/plain": [
       "(80332, 11)"
      ]
     },
     "execution_count": 5,
     "metadata": {},
     "output_type": "execute_result"
    }
   ],
   "source": [
    "df.shape"
   ]
  },
  {
   "attachments": {},
   "cell_type": "markdown",
   "metadata": {},
   "source": [
    "## Calidad de datos"
   ]
  },
  {
   "attachments": {},
   "cell_type": "markdown",
   "metadata": {},
   "source": [
    "### Completitud"
   ]
  },
  {
   "cell_type": "code",
   "execution_count": 6,
   "metadata": {},
   "outputs": [
    {
     "data": {
      "text/html": [
       "<div>\n",
       "<style scoped>\n",
       "    .dataframe tbody tr th:only-of-type {\n",
       "        vertical-align: middle;\n",
       "    }\n",
       "\n",
       "    .dataframe tbody tr th {\n",
       "        vertical-align: top;\n",
       "    }\n",
       "\n",
       "    .dataframe thead th {\n",
       "        text-align: right;\n",
       "    }\n",
       "</style>\n",
       "<table border=\"1\" class=\"dataframe\">\n",
       "  <thead>\n",
       "    <tr style=\"text-align: right;\">\n",
       "      <th></th>\n",
       "      <th>columna</th>\n",
       "      <th>total</th>\n",
       "      <th>completitud</th>\n",
       "    </tr>\n",
       "  </thead>\n",
       "  <tbody>\n",
       "    <tr>\n",
       "      <th>0</th>\n",
       "      <td>country</td>\n",
       "      <td>9670</td>\n",
       "      <td>87.962456</td>\n",
       "    </tr>\n",
       "    <tr>\n",
       "      <th>1</th>\n",
       "      <td>state</td>\n",
       "      <td>5797</td>\n",
       "      <td>92.783698</td>\n",
       "    </tr>\n",
       "    <tr>\n",
       "      <th>2</th>\n",
       "      <td>shape</td>\n",
       "      <td>1932</td>\n",
       "      <td>97.594981</td>\n",
       "    </tr>\n",
       "    <tr>\n",
       "      <th>3</th>\n",
       "      <td>comments</td>\n",
       "      <td>15</td>\n",
       "      <td>99.981327</td>\n",
       "    </tr>\n",
       "    <tr>\n",
       "      <th>4</th>\n",
       "      <td>datetime</td>\n",
       "      <td>0</td>\n",
       "      <td>100.000000</td>\n",
       "    </tr>\n",
       "    <tr>\n",
       "      <th>5</th>\n",
       "      <td>city</td>\n",
       "      <td>0</td>\n",
       "      <td>100.000000</td>\n",
       "    </tr>\n",
       "    <tr>\n",
       "      <th>6</th>\n",
       "      <td>duration (seconds)</td>\n",
       "      <td>0</td>\n",
       "      <td>100.000000</td>\n",
       "    </tr>\n",
       "    <tr>\n",
       "      <th>7</th>\n",
       "      <td>duration (hours/min)</td>\n",
       "      <td>0</td>\n",
       "      <td>100.000000</td>\n",
       "    </tr>\n",
       "    <tr>\n",
       "      <th>8</th>\n",
       "      <td>date posted</td>\n",
       "      <td>0</td>\n",
       "      <td>100.000000</td>\n",
       "    </tr>\n",
       "    <tr>\n",
       "      <th>9</th>\n",
       "      <td>latitude</td>\n",
       "      <td>0</td>\n",
       "      <td>100.000000</td>\n",
       "    </tr>\n",
       "    <tr>\n",
       "      <th>10</th>\n",
       "      <td>longitude</td>\n",
       "      <td>0</td>\n",
       "      <td>100.000000</td>\n",
       "    </tr>\n",
       "  </tbody>\n",
       "</table>\n",
       "</div>"
      ],
      "text/plain": [
       "                 columna  total  completitud\n",
       "0                country   9670    87.962456\n",
       "1                  state   5797    92.783698\n",
       "2                  shape   1932    97.594981\n",
       "3               comments     15    99.981327\n",
       "4               datetime      0   100.000000\n",
       "5                   city      0   100.000000\n",
       "6     duration (seconds)      0   100.000000\n",
       "7   duration (hours/min)      0   100.000000\n",
       "8            date posted      0   100.000000\n",
       "9               latitude      0   100.000000\n",
       "10            longitude       0   100.000000"
      ]
     },
     "execution_count": 6,
     "metadata": {},
     "output_type": "execute_result"
    }
   ],
   "source": [
    "completitud(df)"
   ]
  },
  {
   "cell_type": "code",
   "execution_count": 7,
   "metadata": {},
   "outputs": [],
   "source": [
    "# Debido a que ninguna variable cae por debajo del 80% de completitud, podemos continuar trabajando con el \n",
    "# dataset completo"
   ]
  },
  {
   "attachments": {},
   "cell_type": "markdown",
   "metadata": {},
   "source": [
    "### Duplicados"
   ]
  },
  {
   "cell_type": "code",
   "execution_count": 8,
   "metadata": {},
   "outputs": [
    {
     "name": "stdout",
     "output_type": "stream",
     "text": [
      "Número de duplicados general : 0\n"
     ]
    }
   ],
   "source": [
    "n_duplicados=df.duplicated().sum()#Total de registros duplicados\n",
    "print(f\"Número de duplicados general : { n_duplicados}\")"
   ]
  },
  {
   "attachments": {},
   "cell_type": "markdown",
   "metadata": {},
   "source": [
    "### Orden y consistencia"
   ]
  },
  {
   "cell_type": "code",
   "execution_count": 9,
   "metadata": {},
   "outputs": [
    {
     "data": {
      "text/html": [
       "<div>\n",
       "<style scoped>\n",
       "    .dataframe tbody tr th:only-of-type {\n",
       "        vertical-align: middle;\n",
       "    }\n",
       "\n",
       "    .dataframe tbody tr th {\n",
       "        vertical-align: top;\n",
       "    }\n",
       "\n",
       "    .dataframe thead th {\n",
       "        text-align: right;\n",
       "    }\n",
       "</style>\n",
       "<table border=\"1\" class=\"dataframe\">\n",
       "  <thead>\n",
       "    <tr style=\"text-align: right;\">\n",
       "      <th></th>\n",
       "      <th>datetime</th>\n",
       "      <th>city</th>\n",
       "      <th>state</th>\n",
       "      <th>country</th>\n",
       "      <th>shape</th>\n",
       "      <th>duration (seconds)</th>\n",
       "      <th>duration (hours/min)</th>\n",
       "      <th>comments</th>\n",
       "      <th>date posted</th>\n",
       "      <th>latitude</th>\n",
       "      <th>longitude</th>\n",
       "    </tr>\n",
       "  </thead>\n",
       "  <tbody>\n",
       "    <tr>\n",
       "      <th>0</th>\n",
       "      <td>10/10/1949 20:30</td>\n",
       "      <td>san marcos</td>\n",
       "      <td>tx</td>\n",
       "      <td>us</td>\n",
       "      <td>cylinder</td>\n",
       "      <td>2700</td>\n",
       "      <td>45 minutes</td>\n",
       "      <td>This event took place in early fall around 194...</td>\n",
       "      <td>4/27/2004</td>\n",
       "      <td>29.8830556</td>\n",
       "      <td>-97.941111</td>\n",
       "    </tr>\n",
       "  </tbody>\n",
       "</table>\n",
       "</div>"
      ],
      "text/plain": [
       "           datetime        city state country     shape duration (seconds)  \\\n",
       "0  10/10/1949 20:30  san marcos    tx      us  cylinder               2700   \n",
       "\n",
       "  duration (hours/min)                                           comments  \\\n",
       "0           45 minutes  This event took place in early fall around 194...   \n",
       "\n",
       "  date posted    latitude  longitude   \n",
       "0   4/27/2004  29.8830556  -97.941111  "
      ]
     },
     "execution_count": 9,
     "metadata": {},
     "output_type": "execute_result"
    }
   ],
   "source": [
    "df.head(1)"
   ]
  },
  {
   "attachments": {},
   "cell_type": "markdown",
   "metadata": {},
   "source": [
    "#### Renombramos las cols"
   ]
  },
  {
   "cell_type": "code",
   "execution_count": 10,
   "metadata": {},
   "outputs": [
    {
     "data": {
      "text/html": [
       "<div>\n",
       "<style scoped>\n",
       "    .dataframe tbody tr th:only-of-type {\n",
       "        vertical-align: middle;\n",
       "    }\n",
       "\n",
       "    .dataframe tbody tr th {\n",
       "        vertical-align: top;\n",
       "    }\n",
       "\n",
       "    .dataframe thead th {\n",
       "        text-align: right;\n",
       "    }\n",
       "</style>\n",
       "<table border=\"1\" class=\"dataframe\">\n",
       "  <thead>\n",
       "    <tr style=\"text-align: right;\">\n",
       "      <th></th>\n",
       "      <th>datetime</th>\n",
       "      <th>city</th>\n",
       "      <th>state</th>\n",
       "      <th>country</th>\n",
       "      <th>shape</th>\n",
       "      <th>duration(seconds)</th>\n",
       "      <th>duration(hours/min)</th>\n",
       "      <th>comments</th>\n",
       "      <th>dateposted</th>\n",
       "      <th>latitude</th>\n",
       "      <th>longitude</th>\n",
       "    </tr>\n",
       "  </thead>\n",
       "  <tbody>\n",
       "    <tr>\n",
       "      <th>0</th>\n",
       "      <td>10/10/1949 20:30</td>\n",
       "      <td>san marcos</td>\n",
       "      <td>tx</td>\n",
       "      <td>us</td>\n",
       "      <td>cylinder</td>\n",
       "      <td>2700</td>\n",
       "      <td>45 minutes</td>\n",
       "      <td>This event took place in early fall around 194...</td>\n",
       "      <td>4/27/2004</td>\n",
       "      <td>29.8830556</td>\n",
       "      <td>-97.941111</td>\n",
       "    </tr>\n",
       "  </tbody>\n",
       "</table>\n",
       "</div>"
      ],
      "text/plain": [
       "           datetime        city state country     shape duration(seconds)  \\\n",
       "0  10/10/1949 20:30  san marcos    tx      us  cylinder              2700   \n",
       "\n",
       "  duration(hours/min)                                           comments  \\\n",
       "0          45 minutes  This event took place in early fall around 194...   \n",
       "\n",
       "  dateposted    latitude  longitude  \n",
       "0  4/27/2004  29.8830556 -97.941111  "
      ]
     },
     "execution_count": 10,
     "metadata": {},
     "output_type": "execute_result"
    }
   ],
   "source": [
    "# en primer lugar modificamos los titulos de las variables a que esten en minusculas\n",
    "df = df.rename(columns=str.lower)\n",
    "df = df.rename(columns=lambda x: x.strip().replace(' ', ''))\n",
    "df.head(1)"
   ]
  },
  {
   "cell_type": "code",
   "execution_count": 11,
   "metadata": {},
   "outputs": [
    {
     "data": {
      "text/plain": [
       "Index(['datetime', 'city', 'state', 'country', 'shape', 'duration(seconds)',\n",
       "       'duration(hours/min)', 'comments', 'dateposted', 'latitude',\n",
       "       'longitude'],\n",
       "      dtype='object')"
      ]
     },
     "execution_count": 11,
     "metadata": {},
     "output_type": "execute_result"
    }
   ],
   "source": [
    "df.columns"
   ]
  },
  {
   "cell_type": "code",
   "execution_count": 12,
   "metadata": {},
   "outputs": [
    {
     "name": "stdout",
     "output_type": "stream",
     "text": [
      "datetime\n",
      "------------------------------------\n"
     ]
    },
    {
     "data": {
      "text/plain": [
       "7/4/2010 22:00      36\n",
       "7/4/2012 22:00      31\n",
       "11/16/1999 19:00    27\n",
       "9/19/2009 20:00     26\n",
       "7/4/2011 22:00      25\n",
       "                    ..\n",
       "2/21/2005 22:00      1\n",
       "2/21/2006 20:05      1\n",
       "2/21/2006 20:52      1\n",
       "2/21/2006 21:00      1\n",
       "9/9/2013 23:00       1\n",
       "Name: datetime, Length: 69586, dtype: int64"
      ]
     },
     "metadata": {},
     "output_type": "display_data"
    },
    {
     "name": "stdout",
     "output_type": "stream",
     "text": [
      "city\n",
      "------------------------------------\n"
     ]
    },
    {
     "data": {
      "text/plain": [
       "seattle                                  525\n",
       "phoenix                                  454\n",
       "portland                                 374\n",
       "las vegas                                368\n",
       "los angeles                              353\n",
       "                                        ... \n",
       "playa del cura (grand canaria island)      1\n",
       "livermore/pleasonton (area)                1\n",
       "hamburg (germany)                          1\n",
       "cole camp                                  1\n",
       "hamstead (hollyridge)                      1\n",
       "Name: city, Length: 19900, dtype: int64"
      ]
     },
     "metadata": {},
     "output_type": "display_data"
    },
    {
     "name": "stdout",
     "output_type": "stream",
     "text": [
      "state\n",
      "------------------------------------\n"
     ]
    },
    {
     "data": {
      "text/plain": [
       "ca    9655\n",
       "wa    4268\n",
       "fl    4200\n",
       "tx    3677\n",
       "ny    3219\n",
       "      ... \n",
       "nf      25\n",
       "nt      20\n",
       "pe      17\n",
       "yt      13\n",
       "yk       7\n",
       "Name: state, Length: 67, dtype: int64"
      ]
     },
     "metadata": {},
     "output_type": "display_data"
    },
    {
     "name": "stdout",
     "output_type": "stream",
     "text": [
      "country\n",
      "------------------------------------\n"
     ]
    },
    {
     "data": {
      "text/plain": [
       "us    65114\n",
       "ca     3000\n",
       "gb     1905\n",
       "au      538\n",
       "de      105\n",
       "Name: country, dtype: int64"
      ]
     },
     "metadata": {},
     "output_type": "display_data"
    },
    {
     "name": "stdout",
     "output_type": "stream",
     "text": [
      "shape\n",
      "------------------------------------\n"
     ]
    },
    {
     "data": {
      "text/plain": [
       "light        16565\n",
       "triangle      7865\n",
       "circle        7608\n",
       "fireball      6208\n",
       "other         5649\n",
       "unknown       5584\n",
       "sphere        5387\n",
       "disk          5213\n",
       "oval          3733\n",
       "formation     2457\n",
       "cigar         2057\n",
       "changing      1962\n",
       "flash         1328\n",
       "rectangle     1297\n",
       "cylinder      1283\n",
       "diamond       1178\n",
       "chevron        952\n",
       "egg            759\n",
       "teardrop       750\n",
       "cone           316\n",
       "cross          233\n",
       "delta            7\n",
       "round            2\n",
       "crescent         2\n",
       "pyramid          1\n",
       "flare            1\n",
       "hexagon          1\n",
       "dome             1\n",
       "changed          1\n",
       "Name: shape, dtype: int64"
      ]
     },
     "metadata": {},
     "output_type": "display_data"
    },
    {
     "name": "stdout",
     "output_type": "stream",
     "text": [
      "duration(seconds)\n",
      "------------------------------------\n"
     ]
    },
    {
     "data": {
      "text/plain": [
       "300       8635\n",
       "120       7110\n",
       "600       6312\n",
       "60        5866\n",
       "180       5065\n",
       "          ... \n",
       "634          1\n",
       "299          1\n",
       "300.13       1\n",
       "108000       1\n",
       "181          1\n",
       "Name: duration(seconds), Length: 537, dtype: int64"
      ]
     },
     "metadata": {},
     "output_type": "display_data"
    },
    {
     "name": "stdout",
     "output_type": "stream",
     "text": [
      "duration(hours/min)\n",
      "------------------------------------\n"
     ]
    },
    {
     "data": {
      "text/plain": [
       "5 minutes          4716\n",
       "2 minutes          3500\n",
       "10 minutes         3322\n",
       "1 minute           3061\n",
       "3 minutes          2517\n",
       "                   ... \n",
       "30 s                  1\n",
       "5 sec each one        1\n",
       "10 minutes tops       1\n",
       "over20 seconds        1\n",
       "~1hr+                 1\n",
       "Name: duration(hours/min), Length: 8349, dtype: int64"
      ]
     },
     "metadata": {},
     "output_type": "display_data"
    },
    {
     "name": "stdout",
     "output_type": "stream",
     "text": [
      "comments\n",
      "------------------------------------\n"
     ]
    },
    {
     "data": {
      "text/plain": [
       "Fireball                                                                                                                                            11\n",
       "((NUFORC Note:  No information provided by witness.  PD))                                                                                            9\n",
       "Lights in the sky                                                                                                                                    7\n",
       "((NUFORC Note:  Witness provides no information.  PD))                                                                                               7\n",
       "UFO                                                                                                                                                  7\n",
       "                                                                                                                                                    ..\n",
       "Unconventional flying object observered by police off/licensed pilot.                                                                                1\n",
       "Red/Orange light in the sky.                                                                                                                         1\n",
       "At approximately this time&#44 I let one of my dogs out into my large fenced and wooded backyard.  The night was cold&#44 clear&#44 and many sta     1\n",
       "The flying object caught my attention because it was so beautifu&#44 it flew so fast the I only saw it for about 3 seconds.                          1\n",
       "2 witnesses 2  miles apart&#44 Red &amp; White Elongated-Cigar Shaped Flashing lights&#44 NW of Oklahoma City                                        1\n",
       "Name: comments, Length: 79997, dtype: int64"
      ]
     },
     "metadata": {},
     "output_type": "display_data"
    },
    {
     "name": "stdout",
     "output_type": "stream",
     "text": [
      "dateposted\n",
      "------------------------------------\n"
     ]
    },
    {
     "data": {
      "text/plain": [
       "12/12/2009    1510\n",
       "10/30/2006    1408\n",
       "11/21/2010    1237\n",
       "10/31/2008    1164\n",
       "3/19/2009     1098\n",
       "              ... \n",
       "3/1/2004         4\n",
       "1/20/2003        2\n",
       "5/23/1999        2\n",
       "1/10/2003        1\n",
       "3/25/2002        1\n",
       "Name: dateposted, Length: 317, dtype: int64"
      ]
     },
     "metadata": {},
     "output_type": "display_data"
    },
    {
     "name": "stdout",
     "output_type": "stream",
     "text": [
      "latitude\n",
      "------------------------------------\n"
     ]
    },
    {
     "data": {
      "text/plain": [
       "47.6063889    581\n",
       "40.7141667    529\n",
       "33.4483333    475\n",
       "34.0522222    392\n",
       "36.1750000    388\n",
       "             ... \n",
       "19.449345       1\n",
       "41.3280556      1\n",
       "37.2908333      1\n",
       "53.717856       1\n",
       "50.465843       1\n",
       "Name: latitude, Length: 18445, dtype: int64"
      ]
     },
     "metadata": {},
     "output_type": "display_data"
    },
    {
     "name": "stdout",
     "output_type": "stream",
     "text": [
      "longitude\n",
      "------------------------------------\n"
     ]
    },
    {
     "data": {
      "text/plain": [
       "-122.330833    581\n",
       "-74.006389     529\n",
       "-112.073333    475\n",
       "-118.242778    392\n",
       "-115.136389    388\n",
       "              ... \n",
       "-121.711667      1\n",
       "-0.383333        1\n",
       "-71.909167       1\n",
       "-77.395247       1\n",
       " 22.891814       1\n",
       "Name: longitude, Length: 19455, dtype: int64"
      ]
     },
     "metadata": {},
     "output_type": "display_data"
    }
   ],
   "source": [
    "# ahora veamos los valores que contiene cada variable\n",
    "for col in df.columns:\n",
    "    print(col)\n",
    "    print('------------------------------------')\n",
    "    display(df[col].value_counts())"
   ]
  },
  {
   "cell_type": "code",
   "execution_count": 13,
   "metadata": {},
   "outputs": [
    {
     "data": {
      "text/html": [
       "<div>\n",
       "<style scoped>\n",
       "    .dataframe tbody tr th:only-of-type {\n",
       "        vertical-align: middle;\n",
       "    }\n",
       "\n",
       "    .dataframe tbody tr th {\n",
       "        vertical-align: top;\n",
       "    }\n",
       "\n",
       "    .dataframe thead th {\n",
       "        text-align: right;\n",
       "    }\n",
       "</style>\n",
       "<table border=\"1\" class=\"dataframe\">\n",
       "  <thead>\n",
       "    <tr style=\"text-align: right;\">\n",
       "      <th></th>\n",
       "      <th>datetime</th>\n",
       "      <th>city</th>\n",
       "      <th>state</th>\n",
       "      <th>country</th>\n",
       "      <th>shape</th>\n",
       "      <th>duration(seconds)</th>\n",
       "      <th>duration(hours/min)</th>\n",
       "      <th>comments</th>\n",
       "      <th>dateposted</th>\n",
       "      <th>latitude</th>\n",
       "      <th>longitude</th>\n",
       "    </tr>\n",
       "  </thead>\n",
       "  <tbody>\n",
       "    <tr>\n",
       "      <th>0</th>\n",
       "      <td>10/10/1949 20:30</td>\n",
       "      <td>san marcos</td>\n",
       "      <td>tx</td>\n",
       "      <td>us</td>\n",
       "      <td>cylinder</td>\n",
       "      <td>2700</td>\n",
       "      <td>45 minutes</td>\n",
       "      <td>This event took place in early fall around 194...</td>\n",
       "      <td>4/27/2004</td>\n",
       "      <td>29.8830556</td>\n",
       "      <td>-97.941111</td>\n",
       "    </tr>\n",
       "  </tbody>\n",
       "</table>\n",
       "</div>"
      ],
      "text/plain": [
       "           datetime        city state country     shape duration(seconds)  \\\n",
       "0  10/10/1949 20:30  san marcos    tx      us  cylinder              2700   \n",
       "\n",
       "  duration(hours/min)                                           comments  \\\n",
       "0          45 minutes  This event took place in early fall around 194...   \n",
       "\n",
       "  dateposted    latitude  longitude  \n",
       "0  4/27/2004  29.8830556 -97.941111  "
      ]
     },
     "execution_count": 13,
     "metadata": {},
     "output_type": "execute_result"
    }
   ],
   "source": [
    "df.head(1)"
   ]
  },
  {
   "cell_type": "code",
   "execution_count": 14,
   "metadata": {},
   "outputs": [],
   "source": [
    "# \"c_\"  - Variables numericas : Discretas y continuas\n",
    "# \"v_\"  - Variables categoricas\n",
    "# \"d_\"  - Variables tipo fecha\n",
    "# \"t_\"  - Variables de texto : comentarios, descripciones, url\n",
    "c_feats=[\"duration(seconds)\",'latitude','longitude']\n",
    "v_feats=[\"state\",'country',\"shape\"]\n",
    "t_feats=['city','duration(hours/min)','comments']\n",
    "d_feats=[\"datetime\",'dateposted']"
   ]
  },
  {
   "cell_type": "code",
   "execution_count": 15,
   "metadata": {},
   "outputs": [
    {
     "data": {
      "text/html": [
       "<div>\n",
       "<style scoped>\n",
       "    .dataframe tbody tr th:only-of-type {\n",
       "        vertical-align: middle;\n",
       "    }\n",
       "\n",
       "    .dataframe tbody tr th {\n",
       "        vertical-align: top;\n",
       "    }\n",
       "\n",
       "    .dataframe thead th {\n",
       "        text-align: right;\n",
       "    }\n",
       "</style>\n",
       "<table border=\"1\" class=\"dataframe\">\n",
       "  <thead>\n",
       "    <tr style=\"text-align: right;\">\n",
       "      <th></th>\n",
       "      <th>d_datetime</th>\n",
       "      <th>t_city</th>\n",
       "      <th>v_state</th>\n",
       "      <th>v_country</th>\n",
       "      <th>v_shape</th>\n",
       "      <th>c_duration(seconds)</th>\n",
       "      <th>t_duration(hours/min)</th>\n",
       "      <th>t_comments</th>\n",
       "      <th>d_dateposted</th>\n",
       "      <th>c_latitude</th>\n",
       "      <th>c_longitude</th>\n",
       "    </tr>\n",
       "  </thead>\n",
       "  <tbody>\n",
       "    <tr>\n",
       "      <th>0</th>\n",
       "      <td>10/10/1949 20:30</td>\n",
       "      <td>san marcos</td>\n",
       "      <td>tx</td>\n",
       "      <td>us</td>\n",
       "      <td>cylinder</td>\n",
       "      <td>2700</td>\n",
       "      <td>45 minutes</td>\n",
       "      <td>This event took place in early fall around 194...</td>\n",
       "      <td>4/27/2004</td>\n",
       "      <td>29.8830556</td>\n",
       "      <td>-97.941111</td>\n",
       "    </tr>\n",
       "    <tr>\n",
       "      <th>1</th>\n",
       "      <td>10/10/1949 21:00</td>\n",
       "      <td>lackland afb</td>\n",
       "      <td>tx</td>\n",
       "      <td>NaN</td>\n",
       "      <td>light</td>\n",
       "      <td>7200</td>\n",
       "      <td>1-2 hrs</td>\n",
       "      <td>1949 Lackland AFB&amp;#44 TX.  Lights racing acros...</td>\n",
       "      <td>12/16/2005</td>\n",
       "      <td>29.38421</td>\n",
       "      <td>-98.581082</td>\n",
       "    </tr>\n",
       "  </tbody>\n",
       "</table>\n",
       "</div>"
      ],
      "text/plain": [
       "         d_datetime        t_city v_state v_country   v_shape  \\\n",
       "0  10/10/1949 20:30    san marcos      tx        us  cylinder   \n",
       "1  10/10/1949 21:00  lackland afb      tx       NaN     light   \n",
       "\n",
       "  c_duration(seconds) t_duration(hours/min)  \\\n",
       "0                2700            45 minutes   \n",
       "1                7200               1-2 hrs   \n",
       "\n",
       "                                          t_comments d_dateposted  c_latitude  \\\n",
       "0  This event took place in early fall around 194...    4/27/2004  29.8830556   \n",
       "1  1949 Lackland AFB&#44 TX.  Lights racing acros...   12/16/2005    29.38421   \n",
       "\n",
       "   c_longitude  \n",
       "0   -97.941111  \n",
       "1   -98.581082  "
      ]
     },
     "execution_count": 15,
     "metadata": {},
     "output_type": "execute_result"
    }
   ],
   "source": [
    "c_feats_new=[\"c_\"+x for x in c_feats]\n",
    "v_feats_new=[\"v_\"+x for x in v_feats]\n",
    "t_feats_new=[\"t_\"+x for x in t_feats]\n",
    "d_feats_new=[\"d_\"+x for x in d_feats]\n",
    "\n",
    "df.rename(columns=dict(zip(d_feats,d_feats_new)),inplace=True) # EL TRUE HACE QUE EL DATAFRAME ORIGINAL SE RENOMBRE \n",
    "df.rename(columns=dict(zip(t_feats,t_feats_new)),inplace=True)\n",
    "df.rename(columns=dict(zip(v_feats,v_feats_new)),inplace=True)\n",
    "df.rename(columns=dict(zip(c_feats,c_feats_new)),inplace=True)\n",
    "df.head(2)"
   ]
  },
  {
   "attachments": {},
   "cell_type": "markdown",
   "metadata": {},
   "source": [
    "#### data type"
   ]
  },
  {
   "cell_type": "code",
   "execution_count": 16,
   "metadata": {},
   "outputs": [
    {
     "name": "stdout",
     "output_type": "stream",
     "text": [
      "<class 'pandas.core.frame.DataFrame'>\n",
      "RangeIndex: 80332 entries, 0 to 80331\n",
      "Data columns (total 11 columns):\n",
      " #   Column                 Non-Null Count  Dtype  \n",
      "---  ------                 --------------  -----  \n",
      " 0   d_datetime             80332 non-null  object \n",
      " 1   t_city                 80332 non-null  object \n",
      " 2   v_state                74535 non-null  object \n",
      " 3   v_country              70662 non-null  object \n",
      " 4   v_shape                78400 non-null  object \n",
      " 5   c_duration(seconds)    80332 non-null  object \n",
      " 6   t_duration(hours/min)  80332 non-null  object \n",
      " 7   t_comments             80317 non-null  object \n",
      " 8   d_dateposted           80332 non-null  object \n",
      " 9   c_latitude             80332 non-null  object \n",
      " 10  c_longitude            80332 non-null  float64\n",
      "dtypes: float64(1), object(10)\n",
      "memory usage: 6.7+ MB\n"
     ]
    }
   ],
   "source": [
    "df.info()"
   ]
  },
  {
   "cell_type": "code",
   "execution_count": 17,
   "metadata": {},
   "outputs": [
    {
     "data": {
      "text/html": [
       "<div>\n",
       "<style scoped>\n",
       "    .dataframe tbody tr th:only-of-type {\n",
       "        vertical-align: middle;\n",
       "    }\n",
       "\n",
       "    .dataframe tbody tr th {\n",
       "        vertical-align: top;\n",
       "    }\n",
       "\n",
       "    .dataframe thead th {\n",
       "        text-align: right;\n",
       "    }\n",
       "</style>\n",
       "<table border=\"1\" class=\"dataframe\">\n",
       "  <thead>\n",
       "    <tr style=\"text-align: right;\">\n",
       "      <th></th>\n",
       "      <th>d_datetime</th>\n",
       "      <th>t_city</th>\n",
       "      <th>v_state</th>\n",
       "      <th>v_country</th>\n",
       "      <th>v_shape</th>\n",
       "      <th>c_duration(seconds)</th>\n",
       "      <th>t_duration(hours/min)</th>\n",
       "      <th>t_comments</th>\n",
       "      <th>d_dateposted</th>\n",
       "      <th>c_latitude</th>\n",
       "      <th>c_longitude</th>\n",
       "    </tr>\n",
       "  </thead>\n",
       "  <tbody>\n",
       "    <tr>\n",
       "      <th>0</th>\n",
       "      <td>10/10/1949</td>\n",
       "      <td>san marcos</td>\n",
       "      <td>tx</td>\n",
       "      <td>us</td>\n",
       "      <td>cylinder</td>\n",
       "      <td>2700</td>\n",
       "      <td>45 minutes</td>\n",
       "      <td>This event took place in early fall around 194...</td>\n",
       "      <td>4/27/2004</td>\n",
       "      <td>29.8830556</td>\n",
       "      <td>-97.941111</td>\n",
       "    </tr>\n",
       "    <tr>\n",
       "      <th>1</th>\n",
       "      <td>10/10/1949</td>\n",
       "      <td>lackland afb</td>\n",
       "      <td>tx</td>\n",
       "      <td>NaN</td>\n",
       "      <td>light</td>\n",
       "      <td>7200</td>\n",
       "      <td>1-2 hrs</td>\n",
       "      <td>1949 Lackland AFB&amp;#44 TX.  Lights racing acros...</td>\n",
       "      <td>12/16/2005</td>\n",
       "      <td>29.38421</td>\n",
       "      <td>-98.581082</td>\n",
       "    </tr>\n",
       "    <tr>\n",
       "      <th>2</th>\n",
       "      <td>10/10/1955</td>\n",
       "      <td>chester (uk/england)</td>\n",
       "      <td>NaN</td>\n",
       "      <td>gb</td>\n",
       "      <td>circle</td>\n",
       "      <td>20</td>\n",
       "      <td>20 seconds</td>\n",
       "      <td>Green/Orange circular disc over Chester&amp;#44 En...</td>\n",
       "      <td>1/21/2008</td>\n",
       "      <td>53.2</td>\n",
       "      <td>-2.916667</td>\n",
       "    </tr>\n",
       "    <tr>\n",
       "      <th>3</th>\n",
       "      <td>10/10/1956</td>\n",
       "      <td>edna</td>\n",
       "      <td>tx</td>\n",
       "      <td>us</td>\n",
       "      <td>circle</td>\n",
       "      <td>20</td>\n",
       "      <td>1/2 hour</td>\n",
       "      <td>My older brother and twin sister were leaving ...</td>\n",
       "      <td>1/17/2004</td>\n",
       "      <td>28.9783333</td>\n",
       "      <td>-96.645833</td>\n",
       "    </tr>\n",
       "    <tr>\n",
       "      <th>4</th>\n",
       "      <td>10/10/1960</td>\n",
       "      <td>kaneohe</td>\n",
       "      <td>hi</td>\n",
       "      <td>us</td>\n",
       "      <td>light</td>\n",
       "      <td>900</td>\n",
       "      <td>15 minutes</td>\n",
       "      <td>AS a Marine 1st Lt. flying an FJ4B fighter/att...</td>\n",
       "      <td>1/22/2004</td>\n",
       "      <td>21.4180556</td>\n",
       "      <td>-157.803611</td>\n",
       "    </tr>\n",
       "    <tr>\n",
       "      <th>...</th>\n",
       "      <td>...</td>\n",
       "      <td>...</td>\n",
       "      <td>...</td>\n",
       "      <td>...</td>\n",
       "      <td>...</td>\n",
       "      <td>...</td>\n",
       "      <td>...</td>\n",
       "      <td>...</td>\n",
       "      <td>...</td>\n",
       "      <td>...</td>\n",
       "      <td>...</td>\n",
       "    </tr>\n",
       "    <tr>\n",
       "      <th>80327</th>\n",
       "      <td>9/9/2013</td>\n",
       "      <td>nashville</td>\n",
       "      <td>tn</td>\n",
       "      <td>us</td>\n",
       "      <td>light</td>\n",
       "      <td>600</td>\n",
       "      <td>10 minutes</td>\n",
       "      <td>Round from the distance/slowly changing colors...</td>\n",
       "      <td>9/30/2013</td>\n",
       "      <td>36.1658333</td>\n",
       "      <td>-86.784444</td>\n",
       "    </tr>\n",
       "    <tr>\n",
       "      <th>80328</th>\n",
       "      <td>9/9/2013</td>\n",
       "      <td>boise</td>\n",
       "      <td>id</td>\n",
       "      <td>us</td>\n",
       "      <td>circle</td>\n",
       "      <td>1200</td>\n",
       "      <td>20 minutes</td>\n",
       "      <td>Boise&amp;#44 ID&amp;#44 spherical&amp;#44 20 min&amp;#44 10 r...</td>\n",
       "      <td>9/30/2013</td>\n",
       "      <td>43.6136111</td>\n",
       "      <td>-116.202500</td>\n",
       "    </tr>\n",
       "    <tr>\n",
       "      <th>80329</th>\n",
       "      <td>9/9/2013</td>\n",
       "      <td>napa</td>\n",
       "      <td>ca</td>\n",
       "      <td>us</td>\n",
       "      <td>other</td>\n",
       "      <td>1200</td>\n",
       "      <td>hour</td>\n",
       "      <td>Napa UFO&amp;#44</td>\n",
       "      <td>9/30/2013</td>\n",
       "      <td>38.2972222</td>\n",
       "      <td>-122.284444</td>\n",
       "    </tr>\n",
       "    <tr>\n",
       "      <th>80330</th>\n",
       "      <td>9/9/2013</td>\n",
       "      <td>vienna</td>\n",
       "      <td>va</td>\n",
       "      <td>us</td>\n",
       "      <td>circle</td>\n",
       "      <td>5</td>\n",
       "      <td>5 seconds</td>\n",
       "      <td>Saw a five gold lit cicular craft moving fastl...</td>\n",
       "      <td>9/30/2013</td>\n",
       "      <td>38.9011111</td>\n",
       "      <td>-77.265556</td>\n",
       "    </tr>\n",
       "    <tr>\n",
       "      <th>80331</th>\n",
       "      <td>9/9/2013</td>\n",
       "      <td>edmond</td>\n",
       "      <td>ok</td>\n",
       "      <td>us</td>\n",
       "      <td>cigar</td>\n",
       "      <td>1020</td>\n",
       "      <td>17 minutes</td>\n",
       "      <td>2 witnesses 2  miles apart&amp;#44 Red &amp;amp; White...</td>\n",
       "      <td>9/30/2013</td>\n",
       "      <td>35.6527778</td>\n",
       "      <td>-97.477778</td>\n",
       "    </tr>\n",
       "  </tbody>\n",
       "</table>\n",
       "<p>80332 rows × 11 columns</p>\n",
       "</div>"
      ],
      "text/plain": [
       "       d_datetime                t_city v_state v_country   v_shape  \\\n",
       "0      10/10/1949            san marcos      tx        us  cylinder   \n",
       "1      10/10/1949          lackland afb      tx       NaN     light   \n",
       "2      10/10/1955  chester (uk/england)     NaN        gb    circle   \n",
       "3      10/10/1956                  edna      tx        us    circle   \n",
       "4      10/10/1960               kaneohe      hi        us     light   \n",
       "...           ...                   ...     ...       ...       ...   \n",
       "80327    9/9/2013             nashville      tn        us     light   \n",
       "80328    9/9/2013                 boise      id        us    circle   \n",
       "80329    9/9/2013                  napa      ca        us     other   \n",
       "80330    9/9/2013                vienna      va        us    circle   \n",
       "80331    9/9/2013                edmond      ok        us     cigar   \n",
       "\n",
       "      c_duration(seconds) t_duration(hours/min)  \\\n",
       "0                    2700            45 minutes   \n",
       "1                    7200               1-2 hrs   \n",
       "2                      20            20 seconds   \n",
       "3                      20              1/2 hour   \n",
       "4                     900            15 minutes   \n",
       "...                   ...                   ...   \n",
       "80327                 600            10 minutes   \n",
       "80328                1200            20 minutes   \n",
       "80329                1200                  hour   \n",
       "80330                   5             5 seconds   \n",
       "80331                1020            17 minutes   \n",
       "\n",
       "                                              t_comments d_dateposted  \\\n",
       "0      This event took place in early fall around 194...    4/27/2004   \n",
       "1      1949 Lackland AFB&#44 TX.  Lights racing acros...   12/16/2005   \n",
       "2      Green/Orange circular disc over Chester&#44 En...    1/21/2008   \n",
       "3      My older brother and twin sister were leaving ...    1/17/2004   \n",
       "4      AS a Marine 1st Lt. flying an FJ4B fighter/att...    1/22/2004   \n",
       "...                                                  ...          ...   \n",
       "80327  Round from the distance/slowly changing colors...    9/30/2013   \n",
       "80328  Boise&#44 ID&#44 spherical&#44 20 min&#44 10 r...    9/30/2013   \n",
       "80329                                       Napa UFO&#44    9/30/2013   \n",
       "80330  Saw a five gold lit cicular craft moving fastl...    9/30/2013   \n",
       "80331  2 witnesses 2  miles apart&#44 Red &amp; White...    9/30/2013   \n",
       "\n",
       "       c_latitude  c_longitude  \n",
       "0      29.8830556   -97.941111  \n",
       "1        29.38421   -98.581082  \n",
       "2            53.2    -2.916667  \n",
       "3      28.9783333   -96.645833  \n",
       "4      21.4180556  -157.803611  \n",
       "...           ...          ...  \n",
       "80327  36.1658333   -86.784444  \n",
       "80328  43.6136111  -116.202500  \n",
       "80329  38.2972222  -122.284444  \n",
       "80330  38.9011111   -77.265556  \n",
       "80331  35.6527778   -97.477778  \n",
       "\n",
       "[80332 rows x 11 columns]"
      ]
     },
     "execution_count": 17,
     "metadata": {},
     "output_type": "execute_result"
    }
   ],
   "source": [
    "# extraememos unicamente los caracteres que hacen referencia a la fecha por dias\n",
    "#df['Fecha'] = df['Fecha'].str.extract(r'(\\d{1,2}/\\d{1,2}/\\d{4})')\n",
    "df['d_datetime'] = df['d_datetime'].str.extract(r'(\\d{1,2}/\\d{1,2}/\\d{4})')\n",
    "df['d_dateposted'] = df['d_dateposted'].str.extract(r'(\\d{1,2}/\\d{1,2}/\\d{4})')\n",
    "df"
   ]
  },
  {
   "cell_type": "code",
   "execution_count": 18,
   "metadata": {},
   "outputs": [
    {
     "name": "stdout",
     "output_type": "stream",
     "text": [
      "<class 'pandas.core.frame.DataFrame'>\n",
      "RangeIndex: 80332 entries, 0 to 80331\n",
      "Data columns (total 11 columns):\n",
      " #   Column                 Non-Null Count  Dtype         \n",
      "---  ------                 --------------  -----         \n",
      " 0   d_datetime             80332 non-null  datetime64[ns]\n",
      " 1   t_city                 80332 non-null  object        \n",
      " 2   v_state                74535 non-null  object        \n",
      " 3   v_country              70662 non-null  object        \n",
      " 4   v_shape                78400 non-null  object        \n",
      " 5   c_duration(seconds)    80332 non-null  object        \n",
      " 6   t_duration(hours/min)  80332 non-null  object        \n",
      " 7   t_comments             80317 non-null  object        \n",
      " 8   d_dateposted           80332 non-null  datetime64[ns]\n",
      " 9   c_latitude             80332 non-null  object        \n",
      " 10  c_longitude            80332 non-null  float64       \n",
      "dtypes: datetime64[ns](2), float64(1), object(8)\n",
      "memory usage: 6.7+ MB\n"
     ]
    }
   ],
   "source": [
    "# ahora si transformamos las variables de fecha al tipo de dato correcto:\n",
    "df['d_datetime']=pd.to_datetime(df['d_datetime'])\n",
    "df['d_dateposted']=pd.to_datetime(df['d_dateposted'])\n",
    "df.info()"
   ]
  },
  {
   "cell_type": "code",
   "execution_count": 19,
   "metadata": {},
   "outputs": [],
   "source": [
    "# ahora limpiemos aquellas variables que contienen texto en sus registros:\n",
    "# usamos la funcion previamente definida, de nombre: \"clean_text\"\n",
    "for col in df.columns:\n",
    "    if col.startswith('v_'):\n",
    "        df[col]=df[col].astype(str)\n",
    "        df[col] = df[col].map(lambda x:clean_text(x.lower()))"
   ]
  },
  {
   "cell_type": "code",
   "execution_count": 20,
   "metadata": {},
   "outputs": [
    {
     "data": {
      "text/html": [
       "<div>\n",
       "<style scoped>\n",
       "    .dataframe tbody tr th:only-of-type {\n",
       "        vertical-align: middle;\n",
       "    }\n",
       "\n",
       "    .dataframe tbody tr th {\n",
       "        vertical-align: top;\n",
       "    }\n",
       "\n",
       "    .dataframe thead th {\n",
       "        text-align: right;\n",
       "    }\n",
       "</style>\n",
       "<table border=\"1\" class=\"dataframe\">\n",
       "  <thead>\n",
       "    <tr style=\"text-align: right;\">\n",
       "      <th></th>\n",
       "      <th>d_datetime</th>\n",
       "      <th>t_city</th>\n",
       "      <th>v_state</th>\n",
       "      <th>v_country</th>\n",
       "      <th>v_shape</th>\n",
       "      <th>c_duration(seconds)</th>\n",
       "      <th>t_duration(hours/min)</th>\n",
       "      <th>t_comments</th>\n",
       "      <th>d_dateposted</th>\n",
       "      <th>c_latitude</th>\n",
       "      <th>c_longitude</th>\n",
       "    </tr>\n",
       "  </thead>\n",
       "  <tbody>\n",
       "    <tr>\n",
       "      <th>0</th>\n",
       "      <td>1949-10-10</td>\n",
       "      <td>san marcos</td>\n",
       "      <td>tx</td>\n",
       "      <td>us</td>\n",
       "      <td>cylinder</td>\n",
       "      <td>2700</td>\n",
       "      <td>45 minutes</td>\n",
       "      <td>This event took place in early fall around 194...</td>\n",
       "      <td>2004-04-27</td>\n",
       "      <td>29.8830556</td>\n",
       "      <td>-97.941111</td>\n",
       "    </tr>\n",
       "    <tr>\n",
       "      <th>1</th>\n",
       "      <td>1949-10-10</td>\n",
       "      <td>lackland afb</td>\n",
       "      <td>tx</td>\n",
       "      <td>NaN</td>\n",
       "      <td>light</td>\n",
       "      <td>7200</td>\n",
       "      <td>1-2 hrs</td>\n",
       "      <td>1949 Lackland AFB&amp;#44 TX.  Lights racing acros...</td>\n",
       "      <td>2005-12-16</td>\n",
       "      <td>29.38421</td>\n",
       "      <td>-98.581082</td>\n",
       "    </tr>\n",
       "  </tbody>\n",
       "</table>\n",
       "</div>"
      ],
      "text/plain": [
       "  d_datetime        t_city v_state v_country   v_shape c_duration(seconds)  \\\n",
       "0 1949-10-10    san marcos      tx        us  cylinder                2700   \n",
       "1 1949-10-10  lackland afb      tx       NaN     light                7200   \n",
       "\n",
       "  t_duration(hours/min)                                         t_comments  \\\n",
       "0            45 minutes  This event took place in early fall around 194...   \n",
       "1               1-2 hrs  1949 Lackland AFB&#44 TX.  Lights racing acros...   \n",
       "\n",
       "  d_dateposted  c_latitude  c_longitude  \n",
       "0   2004-04-27  29.8830556   -97.941111  \n",
       "1   2005-12-16    29.38421   -98.581082  "
      ]
     },
     "execution_count": 20,
     "metadata": {},
     "output_type": "execute_result"
    }
   ],
   "source": [
    "df.head(2)"
   ]
  },
  {
   "cell_type": "code",
   "execution_count": 21,
   "metadata": {},
   "outputs": [],
   "source": [
    "for col in df.columns:\n",
    "    if col.startswith('t_'):\n",
    "        df[col]=df[col].astype(str)\n",
    "        df[col] = df[col].map(lambda x:clean_text(x.lower()))"
   ]
  },
  {
   "cell_type": "code",
   "execution_count": 22,
   "metadata": {},
   "outputs": [
    {
     "data": {
      "text/html": [
       "<div>\n",
       "<style scoped>\n",
       "    .dataframe tbody tr th:only-of-type {\n",
       "        vertical-align: middle;\n",
       "    }\n",
       "\n",
       "    .dataframe tbody tr th {\n",
       "        vertical-align: top;\n",
       "    }\n",
       "\n",
       "    .dataframe thead th {\n",
       "        text-align: right;\n",
       "    }\n",
       "</style>\n",
       "<table border=\"1\" class=\"dataframe\">\n",
       "  <thead>\n",
       "    <tr style=\"text-align: right;\">\n",
       "      <th></th>\n",
       "      <th>d_datetime</th>\n",
       "      <th>t_city</th>\n",
       "      <th>v_state</th>\n",
       "      <th>v_country</th>\n",
       "      <th>v_shape</th>\n",
       "      <th>c_duration(seconds)</th>\n",
       "      <th>t_duration(hours/min)</th>\n",
       "      <th>t_comments</th>\n",
       "      <th>d_dateposted</th>\n",
       "      <th>c_latitude</th>\n",
       "      <th>c_longitude</th>\n",
       "    </tr>\n",
       "  </thead>\n",
       "  <tbody>\n",
       "    <tr>\n",
       "      <th>0</th>\n",
       "      <td>1949-10-10</td>\n",
       "      <td>san marcos</td>\n",
       "      <td>tx</td>\n",
       "      <td>us</td>\n",
       "      <td>cylinder</td>\n",
       "      <td>2700</td>\n",
       "      <td>45 minutes</td>\n",
       "      <td>this event took place in early fall around 194...</td>\n",
       "      <td>2004-04-27</td>\n",
       "      <td>29.8830556</td>\n",
       "      <td>-97.941111</td>\n",
       "    </tr>\n",
       "    <tr>\n",
       "      <th>1</th>\n",
       "      <td>1949-10-10</td>\n",
       "      <td>lackland afb</td>\n",
       "      <td>tx</td>\n",
       "      <td>NaN</td>\n",
       "      <td>light</td>\n",
       "      <td>7200</td>\n",
       "      <td>1 2 hrs</td>\n",
       "      <td>1949 lackland afb 44 tx lights racing across t...</td>\n",
       "      <td>2005-12-16</td>\n",
       "      <td>29.38421</td>\n",
       "      <td>-98.581082</td>\n",
       "    </tr>\n",
       "  </tbody>\n",
       "</table>\n",
       "</div>"
      ],
      "text/plain": [
       "  d_datetime        t_city v_state v_country   v_shape c_duration(seconds)  \\\n",
       "0 1949-10-10    san marcos      tx        us  cylinder                2700   \n",
       "1 1949-10-10  lackland afb      tx       NaN     light                7200   \n",
       "\n",
       "  t_duration(hours/min)                                         t_comments  \\\n",
       "0            45 minutes  this event took place in early fall around 194...   \n",
       "1               1 2 hrs  1949 lackland afb 44 tx lights racing across t...   \n",
       "\n",
       "  d_dateposted  c_latitude  c_longitude  \n",
       "0   2004-04-27  29.8830556   -97.941111  \n",
       "1   2005-12-16    29.38421   -98.581082  "
      ]
     },
     "execution_count": 22,
     "metadata": {},
     "output_type": "execute_result"
    }
   ],
   "source": [
    "df.head(2)"
   ]
  },
  {
   "cell_type": "code",
   "execution_count": 25,
   "metadata": {},
   "outputs": [
    {
     "name": "stdout",
     "output_type": "stream",
     "text": [
      "<class 'pandas.core.frame.DataFrame'>\n",
      "RangeIndex: 80332 entries, 0 to 80331\n",
      "Data columns (total 11 columns):\n",
      " #   Column                 Non-Null Count  Dtype         \n",
      "---  ------                 --------------  -----         \n",
      " 0   d_datetime             80332 non-null  datetime64[ns]\n",
      " 1   t_city                 80332 non-null  object        \n",
      " 2   v_state                74535 non-null  object        \n",
      " 3   v_country              70662 non-null  object        \n",
      " 4   v_shape                78400 non-null  object        \n",
      " 5   c_duration(seconds)    80329 non-null  float64       \n",
      " 6   t_duration(hours/min)  80332 non-null  object        \n",
      " 7   t_comments             80317 non-null  object        \n",
      " 8   d_dateposted           80332 non-null  datetime64[ns]\n",
      " 9   c_latitude             80331 non-null  float64       \n",
      " 10  c_longitude            80332 non-null  float64       \n",
      "dtypes: datetime64[ns](2), float64(3), object(6)\n",
      "memory usage: 6.7+ MB\n"
     ]
    }
   ],
   "source": [
    "# ahora convertimos a tipo float aquellas variables numericas:\n",
    "#df['Columna'] = pd.to_numeric(df['Columna'], errors='coerce')\n",
    "df['c_duration(seconds)'] = pd.to_numeric(df['c_duration(seconds)'], errors='coerce')\n",
    "df['c_latitude'] = pd.to_numeric(df['c_latitude'], errors='coerce')\n",
    "df['c_longitude'] = pd.to_numeric(df['c_longitude'], errors='coerce')\n",
    "\n",
    "df.info()"
   ]
  },
  {
   "cell_type": "code",
   "execution_count": 26,
   "metadata": {},
   "outputs": [],
   "source": [
    "# Ahora ya tenemos limpio este dataframe, el cual usaremos posteriormente para el desarrollo del analisis exploratorio\n",
    "# Lo exportamos\n",
    "df.to_csv('../data/processed/df_data_quality', index=False)"
   ]
  }
 ],
 "metadata": {
  "kernelspec": {
   "display_name": "env_study",
   "language": "python",
   "name": "python3"
  },
  "language_info": {
   "codemirror_mode": {
    "name": "ipython",
    "version": 3
   },
   "file_extension": ".py",
   "mimetype": "text/x-python",
   "name": "python",
   "nbconvert_exporter": "python",
   "pygments_lexer": "ipython3",
   "version": "3.10.5"
  },
  "orig_nbformat": 4
 },
 "nbformat": 4,
 "nbformat_minor": 2
}
